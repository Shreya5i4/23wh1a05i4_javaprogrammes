{
  "nbformat": 4,
  "nbformat_minor": 0,
  "metadata": {
    "colab": {
      "provenance": [],
      "authorship_tag": "ABX9TyMQQBy05kcMFfi9zjd+owsU",
      "include_colab_link": true
    },
    "kernelspec": {
      "name": "python3",
      "display_name": "Python 3"
    },
    "language_info": {
      "name": "python"
    }
  },
  "cells": [
    {
      "cell_type": "markdown",
      "metadata": {
        "id": "view-in-github",
        "colab_type": "text"
      },
      "source": [
        "<a href=\"https://colab.research.google.com/github/Shreya5i4/23wh1a05i4_javaprogrammes/blob/main/ML_Practice_28_09_24.ipynb\" target=\"_parent\"><img src=\"https://colab.research.google.com/assets/colab-badge.svg\" alt=\"Open In Colab\"/></a>"
      ]
    },
    {
      "cell_type": "code",
      "source": [
        "import numpy as np"
      ],
      "metadata": {
        "id": "-q5DKscqhUx8"
      },
      "execution_count": 1,
      "outputs": []
    },
    {
      "cell_type": "code",
      "execution_count": 2,
      "metadata": {
        "id": "w-epfKAKhNw9"
      },
      "outputs": [],
      "source": [
        "arr1= np.array([1,2,3,4,5,6])\n",
        "arr2 = np.array([[1,2],[3,4],[5,6]])\n",
        "arr3 = np.array([[[1],[2]],[[3],[4]],[[5],[6]]])"
      ]
    },
    {
      "cell_type": "code",
      "source": [
        "print(arr1.shape)\n",
        "print(arr2.shape)\n",
        "print(arr3.shape)"
      ],
      "metadata": {
        "colab": {
          "base_uri": "https://localhost:8080/"
        },
        "id": "_7H_2_lGhjYs",
        "outputId": "015c7283-68c1-43e3-e196-9844d863c36c"
      },
      "execution_count": 3,
      "outputs": [
        {
          "output_type": "stream",
          "name": "stdout",
          "text": [
            "(6,)\n",
            "(3, 2)\n",
            "(3, 2, 1)\n"
          ]
        }
      ]
    },
    {
      "cell_type": "code",
      "source": [
        "#standard arrays\n",
        "zeros = np.zeros((3,3)) #input is shape of the array\n",
        "print(zeros)\n",
        "\n",
        "ones = np.ones((3,4))\n",
        "print(ones)\n",
        "\n",
        "rand = np.random.rand(3,3)\n",
        "print(rand)"
      ],
      "metadata": {
        "colab": {
          "base_uri": "https://localhost:8080/"
        },
        "id": "FqMpGgw5hsin",
        "outputId": "a9d1cab5-ff5c-42e1-9d8e-9b068b10f00e"
      },
      "execution_count": 4,
      "outputs": [
        {
          "output_type": "stream",
          "name": "stdout",
          "text": [
            "[[0. 0. 0.]\n",
            " [0. 0. 0.]\n",
            " [0. 0. 0.]]\n",
            "[[1. 1. 1. 1.]\n",
            " [1. 1. 1. 1.]\n",
            " [1. 1. 1. 1.]]\n",
            "[[0.8571036  0.11939375 0.4125753 ]\n",
            " [0.20824056 0.91301977 0.43355814]\n",
            " [0.85665041 0.65536632 0.46204686]]\n"
          ]
        }
      ]
    },
    {
      "cell_type": "code",
      "source": [
        "#reshape\n",
        "arr1 = np.array([1,2,3,4,5,6,7,8], dtype=float)\n",
        "print(arr1)\n",
        "#not copies of arrays\n",
        "reshape1_arr1 = arr1.reshape(2,4)\n",
        "print(reshape1_arr1)\n",
        "#if you change arr1, all references to it will also change\n",
        "reshape2_arr1 = arr1.reshape(2,2,2)\n",
        "print(reshape2_arr1)\n",
        "\n",
        "arr1[0]= 10\n",
        "print(reshape2_arr1)"
      ],
      "metadata": {
        "colab": {
          "base_uri": "https://localhost:8080/"
        },
        "id": "-EWhdUdLhukc",
        "outputId": "e4986bc6-01a1-4390-c273-79d120df97e0"
      },
      "execution_count": 5,
      "outputs": [
        {
          "output_type": "stream",
          "name": "stdout",
          "text": [
            "[1. 2. 3. 4. 5. 6. 7. 8.]\n",
            "[[1. 2. 3. 4.]\n",
            " [5. 6. 7. 8.]]\n",
            "[[[1. 2.]\n",
            "  [3. 4.]]\n",
            "\n",
            " [[5. 6.]\n",
            "  [7. 8.]]]\n",
            "[[[10.  2.]\n",
            "  [ 3.  4.]]\n",
            "\n",
            " [[ 5.  6.]\n",
            "  [ 7.  8.]]]\n"
          ]
        }
      ]
    },
    {
      "cell_type": "code",
      "source": [
        "arr1 = np.array([1,2,3,4,5,6,7,8]).reshape(2,2,2)\n",
        "print(arr1)"
      ],
      "metadata": {
        "colab": {
          "base_uri": "https://localhost:8080/"
        },
        "id": "flH-6XQYh-Lo",
        "outputId": "2564f223-2dd3-4b19-9b86-76b207707778"
      },
      "execution_count": 6,
      "outputs": [
        {
          "output_type": "stream",
          "name": "stdout",
          "text": [
            "[[[1 2]\n",
            "  [3 4]]\n",
            "\n",
            " [[5 6]\n",
            "  [7 8]]]\n"
          ]
        }
      ]
    },
    {
      "cell_type": "code",
      "source": [
        "#simple indexing\n",
        "print(arr1[0,1,0])\n",
        "print(arr1[0][1][0])\n",
        "\n",
        "print(arr1[:,1])\n",
        "print(arr1[0,:,:])\n",
        "\n",
        "print(arr1[:,:,0])\n",
        "print(arr1[:,:,0].shape)"
      ],
      "metadata": {
        "colab": {
          "base_uri": "https://localhost:8080/"
        },
        "id": "cb4L-THoiCDT",
        "outputId": "614280ad-1017-4ef5-8e3f-557d62f1b00c"
      },
      "execution_count": 7,
      "outputs": [
        {
          "output_type": "stream",
          "name": "stdout",
          "text": [
            "3\n",
            "3\n",
            "[[3 4]\n",
            " [7 8]]\n",
            "[[1 2]\n",
            " [3 4]]\n",
            "[[1 3]\n",
            " [5 7]]\n",
            "(2, 2)\n"
          ]
        }
      ]
    },
    {
      "cell_type": "code",
      "source": [
        "#advanced indexing\n",
        "print(arr1[[1,0]]) #print zeroth row twice\n",
        "print(arr1[[True, True]])"
      ],
      "metadata": {
        "colab": {
          "base_uri": "https://localhost:8080/"
        },
        "id": "mlcnUQ9viLVt",
        "outputId": "55842863-3b35-4a42-c67b-2ce3cec1a81c"
      },
      "execution_count": 8,
      "outputs": [
        {
          "output_type": "stream",
          "name": "stdout",
          "text": [
            "[[[5 6]\n",
            "  [7 8]]\n",
            "\n",
            " [[1 2]\n",
            "  [3 4]]]\n",
            "[[[1 2]\n",
            "  [3 4]]\n",
            "\n",
            " [[5 6]\n",
            "  [7 8]]]\n"
          ]
        }
      ]
    },
    {
      "cell_type": "code",
      "source": [
        "#slicing\n",
        "arr1 = np.array([1,2,3,4,5,6,7,8]).reshape(2,4)\n",
        "print(arr1)"
      ],
      "metadata": {
        "colab": {
          "base_uri": "https://localhost:8080/"
        },
        "id": "lFnxerWDiQzh",
        "outputId": "887cca27-176a-4160-8ad0-9d3fcc4a4a70"
      },
      "execution_count": 9,
      "outputs": [
        {
          "output_type": "stream",
          "name": "stdout",
          "text": [
            "[[1 2 3 4]\n",
            " [5 6 7 8]]\n"
          ]
        }
      ]
    },
    {
      "cell_type": "code",
      "source": [
        "arr2 = arr1[0:1,0:3] #slicing does not copy memory\n",
        "\n",
        "print(arr1)\n",
        "print(arr2)\n",
        "\n",
        "arr2 = arr1[0,0:4:2] # slicing with stride\n",
        "print(arr2)\n",
        "\n",
        "arr2 = arr1[0,0:-1]\n",
        "print(arr2)"
      ],
      "metadata": {
        "colab": {
          "base_uri": "https://localhost:8080/"
        },
        "id": "yfR15p68ia4p",
        "outputId": "7268e38a-190b-47e3-e712-398a6b2ff08e"
      },
      "execution_count": 10,
      "outputs": [
        {
          "output_type": "stream",
          "name": "stdout",
          "text": [
            "[[1 2 3 4]\n",
            " [5 6 7 8]]\n",
            "[[1 2 3]]\n",
            "[1 3]\n",
            "[1 2 3]\n"
          ]
        }
      ]
    },
    {
      "cell_type": "code",
      "source": [
        "arr1 = np.array([1,2,3,4,5,6,7,8]).reshape(2,4)\n",
        "arr2 = np.array([1,2,3,4,5,6,7,8]).reshape(2,4)\n",
        "\n",
        "print(arr1 + arr2) #elementwise addition\n",
        "print(arr1 * arr2) #elementwise multiplication\n",
        "print(arr1/ arr2)"
      ],
      "metadata": {
        "colab": {
          "base_uri": "https://localhost:8080/"
        },
        "id": "UsiZei_rij4A",
        "outputId": "49b2f8cb-952c-4841-b85a-310fd80f0a33"
      },
      "execution_count": 11,
      "outputs": [
        {
          "output_type": "stream",
          "name": "stdout",
          "text": [
            "[[ 2  4  6  8]\n",
            " [10 12 14 16]]\n",
            "[[ 1  4  9 16]\n",
            " [25 36 49 64]]\n",
            "[[1. 1. 1. 1.]\n",
            " [1. 1. 1. 1.]]\n"
          ]
        }
      ]
    },
    {
      "cell_type": "code",
      "source": [
        "arr1 = arr1 = np.array([1,2,3,4,5,6,7,8]).reshape(2,4)\n",
        "print(arr1)\n",
        "print(arr1.sum()) #sum over entire arry\n",
        "print(np.sum(arr1, axis=1)) #sums of specific axes/dimensions)\n",
        "\n",
        "print(arr1.mean())\n",
        "print(arr1.mean(axis=1))"
      ],
      "metadata": {
        "colab": {
          "base_uri": "https://localhost:8080/"
        },
        "id": "i9MfERQFigQI",
        "outputId": "f3f87baa-6d08-4c94-fd3b-203c08109fc4"
      },
      "execution_count": 12,
      "outputs": [
        {
          "output_type": "stream",
          "name": "stdout",
          "text": [
            "[[1 2 3 4]\n",
            " [5 6 7 8]]\n",
            "36\n",
            "[10 26]\n",
            "4.5\n",
            "[2.5 6.5]\n"
          ]
        }
      ]
    },
    {
      "cell_type": "code",
      "source": [
        "arr1 = np.random.rand(2,3)\n",
        "arr2 = np.random.rand(3,2)\n",
        "\n",
        "print(arr1 @ arr2)\n",
        "print(np.dot(arr1,arr2))"
      ],
      "metadata": {
        "colab": {
          "base_uri": "https://localhost:8080/"
        },
        "id": "HwQMxIXGitTn",
        "outputId": "9018f499-90ed-4e8f-e408-0dbd25f4c239"
      },
      "execution_count": 13,
      "outputs": [
        {
          "output_type": "stream",
          "name": "stdout",
          "text": [
            "[[0.97585941 0.59388059]\n",
            " [0.7279648  0.38083447]]\n",
            "[[0.97585941 0.59388059]\n",
            " [0.7279648  0.38083447]]\n"
          ]
        }
      ]
    },
    {
      "cell_type": "code",
      "source": [
        "# select all elements of an array greater than 0.5\n",
        "arr = np.random.rand(3,5)\n",
        "index = (arr >= 0.5)\n",
        "print(arr[index])"
      ],
      "metadata": {
        "colab": {
          "base_uri": "https://localhost:8080/"
        },
        "id": "whUrYVQGiz7H",
        "outputId": "39cc6ee5-6ca7-4b5a-ee4c-afa990697241"
      },
      "execution_count": 14,
      "outputs": [
        {
          "output_type": "stream",
          "name": "stdout",
          "text": [
            "[0.56681355 0.73884018 0.77020375 0.67425554 0.5244576  0.5220903\n",
            " 0.99325481 0.64722136 0.79469757]\n"
          ]
        }
      ]
    },
    {
      "cell_type": "code",
      "source": [
        "#from an array select all rows that sum to less than 2\n",
        "arr = np.random.rand(5,4)\n",
        "rowsum = arr.sum(axis=1)\n",
        "print(arr[rowsum < 2])\n",
        "print(arr[rowsum < 2].sum(1))"
      ],
      "metadata": {
        "colab": {
          "base_uri": "https://localhost:8080/"
        },
        "id": "X0edB4aCi7hI",
        "outputId": "7d3002a3-73c6-4f0f-c230-cd56e9a2b08b"
      },
      "execution_count": 15,
      "outputs": [
        {
          "output_type": "stream",
          "name": "stdout",
          "text": [
            "[[0.36144562 0.61507626 0.08322597 0.42112315]\n",
            " [0.00830476 0.27157379 0.54713094 0.86130739]]\n",
            "[1.480871   1.68831689]\n"
          ]
        }
      ]
    },
    {
      "cell_type": "code",
      "source": [
        "#replace all 0s with 2s\n",
        "arr = (np.random.rand(5,4) > 0.5).astype(int)\n",
        "print(arr)\n",
        "index = (arr == 0)\n",
        "arr[index] = 2\n",
        "print(arr)"
      ],
      "metadata": {
        "colab": {
          "base_uri": "https://localhost:8080/"
        },
        "id": "t-s1uVr3i9tS",
        "outputId": "e75ffbe0-27f1-4636-f6bf-cddde4315473"
      },
      "execution_count": 16,
      "outputs": [
        {
          "output_type": "stream",
          "name": "stdout",
          "text": [
            "[[1 0 0 0]\n",
            " [0 0 1 1]\n",
            " [0 0 0 1]\n",
            " [0 0 0 1]\n",
            " [0 1 0 0]]\n",
            "[[1 2 2 2]\n",
            " [2 2 1 1]\n",
            " [2 2 2 1]\n",
            " [2 2 2 1]\n",
            " [2 1 2 2]]\n"
          ]
        }
      ]
    },
    {
      "cell_type": "markdown",
      "source": [
        "SKLEARN\n"
      ],
      "metadata": {
        "id": "sFR14DY3jHyZ"
      }
    },
    {
      "cell_type": "code",
      "source": [
        "import numpy as np\n",
        "from sklearn import datasets\n",
        "from sklearn.model_selection import train_test_split\n",
        "from sklearn.linear_model import LinearRegression, SGDRegressor, Ridge, Lasso\n",
        "from sklearn.metrics import mean_squared_error\n",
        "from sklearn.preprocessing import StandardScaler"
      ],
      "metadata": {
        "id": "nUr_4bdtjDMV"
      },
      "execution_count": 17,
      "outputs": []
    },
    {
      "cell_type": "code",
      "source": [
        "#load dataset\n",
        "diabetes = datasets.load_diabetes()\n",
        "X = diabetes.data\n",
        "Y = diabetes.target"
      ],
      "metadata": {
        "id": "qadRbqp9jM-5"
      },
      "execution_count": 18,
      "outputs": []
    },
    {
      "cell_type": "code",
      "source": [
        "#get test split\n",
        "X_train, X_test, Y_train, Y_test = train_test_split(X,Y, test_size=0.25)\n",
        "scaler = StandardScaler().fit(X_train)\n",
        "X_train = scaler.transform(X_train)\n",
        "X_test = scaler.transform(X_test)"
      ],
      "metadata": {
        "id": "rq_FrtmQjRWM"
      },
      "execution_count": 19,
      "outputs": []
    },
    {
      "cell_type": "code",
      "source": [
        "print(X.shape)\n",
        "print(X_train.shape, X_test.shape)"
      ],
      "metadata": {
        "colab": {
          "base_uri": "https://localhost:8080/"
        },
        "id": "MhHowLULjWiN",
        "outputId": "2ef59f31-6eac-447d-974b-48b15265aee4"
      },
      "execution_count": 20,
      "outputs": [
        {
          "output_type": "stream",
          "name": "stdout",
          "text": [
            "(442, 10)\n",
            "(331, 10) (111, 10)\n"
          ]
        }
      ]
    },
    {
      "cell_type": "code",
      "source": [
        "#linear regression\n",
        "model = LinearRegression(fit_intercept=True)\n",
        "#fitting linear regression model to data (TRAINING STEP)\n",
        "_ = model.fit(X_train, Y_train)\n",
        "#measure performance on test set\n",
        "Y_pred = model.predict(X_test)\n",
        "\n",
        "error  = mean_squared_error(Y_test, Y_pred)\n",
        "r2 = model.score(X_test, Y_test)\n",
        "print(error)\n",
        "print(r2)\n",
        "print(model.coef_)"
      ],
      "metadata": {
        "colab": {
          "base_uri": "https://localhost:8080/"
        },
        "id": "JEixIoeEjjv4",
        "outputId": "4cb0a279-aa22-4494-ba68-20cb967ec18a"
      },
      "execution_count": 21,
      "outputs": [
        {
          "output_type": "stream",
          "name": "stdout",
          "text": [
            "3597.3641895736246\n",
            "0.3614250924076571\n",
            "[ -3.05668782  -9.57018968  24.10922656  19.14194817 -57.04928632\n",
            "  37.41739984  14.05474707  14.46658806  44.67730238  -1.01369495]\n"
          ]
        }
      ]
    },
    {
      "cell_type": "code",
      "source": [
        "#SGDRegressor\n",
        "sgd_model = SGDRegressor()\n",
        "sgd_model.fit(X_train, Y_train)\n",
        "Y_pred = sgd_model.predict(X_test)\n",
        "error = mean_squared_error(Y_test, Y_pred)\n",
        "r2 = sgd_model.score(X_test, Y_test)\n",
        "print(error)\n",
        "print(r2)\n",
        "print(sgd_model.coef_)"
      ],
      "metadata": {
        "colab": {
          "base_uri": "https://localhost:8080/"
        },
        "id": "sArtRCADjpg5",
        "outputId": "c354cc49-086b-4a73-bb31-2908ad7ebc28"
      },
      "execution_count": 22,
      "outputs": [
        {
          "output_type": "stream",
          "name": "stdout",
          "text": [
            "3482.7014530068536\n",
            "0.38177909121034415\n",
            "[-2.43671982 -9.20785282 25.44387339 18.5802002  -6.95811399 -2.12471938\n",
            " -8.05418981  8.14594257 24.80559031 -0.95929693]\n"
          ]
        }
      ]
    },
    {
      "cell_type": "code",
      "source": [
        "#Ridge (Ridge is simply linear regression + a regularizer)\n",
        "#A regularizer is something that is added to the loss function to improve training. You can think of it as something to stop the weights from becoming too large\n",
        "ridge_model = Ridge()\n",
        "ridge_model.fit(X_train, Y_train)\n",
        "Y_pred = ridge_model.predict(X_test)\n",
        "error = mean_squared_error(Y_test, Y_pred)\n",
        "r2 = ridge_model.score(X_test, Y_test)\n",
        "print(error)\n",
        "print(r2)\n",
        "print(ridge_model.coef_)"
      ],
      "metadata": {
        "colab": {
          "base_uri": "https://localhost:8080/"
        },
        "id": "EEUw8AWjjwqN",
        "outputId": "b524cbb2-146f-4f5f-9737-533fdae591a0"
      },
      "execution_count": 23,
      "outputs": [
        {
          "output_type": "stream",
          "name": "stdout",
          "text": [
            "3553.8646962981443\n",
            "0.36914676956762127\n",
            "[ -2.828045    -9.41194551  24.37498279  18.90915613 -43.18480703\n",
            "  26.43442136   7.90608018  12.60178673  39.07332915  -0.97507607]\n"
          ]
        }
      ]
    }
  ]
}